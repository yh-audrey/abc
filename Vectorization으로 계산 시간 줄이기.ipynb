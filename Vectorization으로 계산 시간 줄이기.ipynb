{
 "cells": [
  {
   "cell_type": "code",
   "execution_count": null,
   "metadata": {},
   "outputs": [],
   "source": [
    "## Deeplearning AI: Vectorization"
   ]
  },
  {
   "cell_type": "code",
   "execution_count": 2,
   "metadata": {},
   "outputs": [
    {
     "name": "stdout",
     "output_type": "stream",
     "text": [
      "[1 2 3 4]\n"
     ]
    }
   ],
   "source": [
    "import numpy as np\n",
    "\n",
    "a = np.array([1,2,3,4])\n",
    "print(a)"
   ]
  },
  {
   "cell_type": "code",
   "execution_count": 9,
   "metadata": {},
   "outputs": [
    {
     "name": "stdout",
     "output_type": "stream",
     "text": [
      "249746.15489017352\n",
      "Vectorized version: 1.9962787628173828ms\n",
      "249746.15489016802\n",
      "for loop:730.4003238677979ms\n"
     ]
    }
   ],
   "source": [
    "import time \n",
    "\n",
    "a = np.random.rand(1000000) #난수로 이루어진 백만 차원의 배열 \n",
    "b = np.random.rand(1000000) # ''\n",
    "\n",
    "tic = time.time() #현재 시간\n",
    "c = np.dot(a,b) # for 문 없이 두 벡터의 곱셈 계산을 하게 해줌.\n",
    "toc = time.time() #vetorization 이후 현재 시간\n",
    "\n",
    "print(c)\n",
    "print(\"Vectorized version: \" + str(1000*(toc-tic))+ \"ms\") #단위는 밀리 초\n",
    "\n",
    "d = 0\n",
    "tic = time.time()\n",
    "for i in range(1000000): #for 문을 쓴 non vectorized version\n",
    "    d += a[i]*b[i]\n",
    "toc = time.time()\n",
    "\n",
    "print(d)\n",
    "print(\"for loop:\" + str(1000*(toc-tic))+ \"ms\")\n",
    "\n",
    "## 똑같은 결과값이 나오는데도 계산에 걸리는 시간이 다름\n",
    "## vertorized version이 훨씬 짧게 걸림!!\n",
    "## 파이썬 numpy가 병렬화를 통해 계산을 빠르게 해줌.\n",
    "\n",
    "## 여기에서 기억할 점은 최대한 for 문을 쓰지 않는 것임."
   ]
  },
  {
   "cell_type": "code",
   "execution_count": null,
   "metadata": {},
   "outputs": [],
   "source": []
  }
 ],
 "metadata": {
  "kernelspec": {
   "display_name": "Python 3",
   "language": "python",
   "name": "python3"
  },
  "language_info": {
   "codemirror_mode": {
    "name": "ipython",
    "version": 3
   },
   "file_extension": ".py",
   "mimetype": "text/x-python",
   "name": "python",
   "nbconvert_exporter": "python",
   "pygments_lexer": "ipython3",
   "version": "3.8.3"
  }
 },
 "nbformat": 4,
 "nbformat_minor": 4
}
